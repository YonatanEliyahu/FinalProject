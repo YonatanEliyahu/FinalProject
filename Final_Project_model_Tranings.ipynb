{
  "nbformat": 4,
  "nbformat_minor": 0,
  "metadata": {
    "colab": {
      "provenance": [],
      "mount_file_id": "1SzFwKITXz7vNqxOC22HSh742SPH5R4zD",
      "authorship_tag": "ABX9TyPJzk1dPD3SrXLg6IpQlXsS",
      "include_colab_link": true
    },
    "kernelspec": {
      "name": "python3",
      "display_name": "Python 3"
    },
    "language_info": {
      "name": "python"
    }
  },
  "cells": [
    {
      "cell_type": "markdown",
      "metadata": {
        "id": "view-in-github",
        "colab_type": "text"
      },
      "source": [
        "<a href=\"https://colab.research.google.com/github/YonatanEliyahu/FinalProject/blob/main/Final_Project_model_Tranings.ipynb\" target=\"_parent\"><img src=\"https://colab.research.google.com/assets/colab-badge.svg\" alt=\"Open In Colab\"/></a>"
      ]
    },
    {
      "cell_type": "markdown",
      "source": [
        "# Drowsiness and distraction dedector "
      ],
      "metadata": {
        "id": "Je568N1XiSov"
      }
    },
    {
      "cell_type": "markdown",
      "source": [
        "## import"
      ],
      "metadata": {
        "id": "iVGNxc7KksEP"
      }
    },
    {
      "cell_type": "code",
      "source": [
        "import numpy as np\n",
        "import matplotlib.pyplot as plt\n",
        "import cv2\n",
        "import os\n",
        "import glob as gb\n",
        "import tensorflow as tf"
      ],
      "metadata": {
        "id": "eRfznDwIkiyH"
      },
      "execution_count": null,
      "outputs": []
    },
    {
      "cell_type": "markdown",
      "source": [
        "## import data\n"
      ],
      "metadata": {
        "id": "_KFXs_tWkzCH"
      }
    },
    {
      "cell_type": "markdown",
      "source": [
        "### create train df"
      ],
      "metadata": {
        "id": "-BWA3zbr0As4"
      }
    },
    {
      "cell_type": "code",
      "source": [
        "size=94\n",
        "train_dir='/content/drive/MyDrive/FinalProject/data'\n",
        "\n",
        "train_generator=tf.keras.preprocessing.image.ImageDataGenerator(\n",
        "    rescale=1/255.0,\n",
        "    validation_split=0.15,\n",
        ").flow_from_directory(train_dir,batch_size=16,target_size=(size,size),subset=\"training\",shuffle=True)\n"
      ],
      "metadata": {
        "colab": {
          "base_uri": "https://localhost:8080/"
        },
        "id": "caoIt_qwkjAH",
        "outputId": "2774920b-283b-416a-8d3d-52722eea5aa2"
      },
      "execution_count": null,
      "outputs": [
        {
          "output_type": "stream",
          "name": "stdout",
          "text": [
            "Found 12033 images belonging to 4 classes.\n"
          ]
        }
      ]
    },
    {
      "cell_type": "code",
      "source": [
        "classes=list(train_generator.class_indices.keys())\n",
        "def print_examples(DataFrame,fClasses):\n",
        "  plt.figure(figsize=(20,20))\n",
        "  for X_batch, y_batch in train_generator:\n",
        "      # create a grid of 4x4 images\n",
        "     for i in range(0,16):\n",
        "         plt.subplot(4,4,i+1)\n",
        "         plt.imshow(X_batch[i])\n",
        "         plt.title(fClasses[np.where(y_batch[i]==1)[0][0]])\n",
        "     # show the plot\n",
        "     plt.show()\n",
        "     break\n",
        "\n",
        "print_examples(train_generator,classes)"
      ],
      "metadata": {
        "id": "D1KfRG0bkjDR"
      },
      "execution_count": null,
      "outputs": []
    },
    {
      "cell_type": "markdown",
      "source": [
        "### create validation df"
      ],
      "metadata": {
        "id": "w0PuF48f0Pqo"
      }
    },
    {
      "cell_type": "code",
      "source": [
        "valid_generator=tf.keras.preprocessing.image.ImageDataGenerator(\n",
        "    rescale=1/255.0,\n",
        "    validation_split=0.15,\n",
        ").flow_from_directory(train_dir,batch_size=16,target_size=(size,size),subset='validation',shuffle=True)\n",
        "#print_examples(valid_generator,classes)"
      ],
      "metadata": {
        "id": "2a5Li3gnkjFg",
        "colab": {
          "base_uri": "https://localhost:8080/"
        },
        "outputId": "7c97dd57-7254-4576-f18a-89c0e3cab640"
      },
      "execution_count": null,
      "outputs": [
        {
          "output_type": "stream",
          "name": "stdout",
          "text": [
            "Found 2122 images belonging to 4 classes.\n"
          ]
        }
      ]
    },
    {
      "cell_type": "markdown",
      "source": [
        "### create test df"
      ],
      "metadata": {
        "id": "J2uiCqSI0ixB"
      }
    },
    {
      "cell_type": "code",
      "source": [
        "test_dir='/content/drive/MyDrive/FinalProject/test_data'\n",
        "test_generator=tf.keras.preprocessing.image.ImageDataGenerator(\n",
        "    rescale=1/255.0\n",
        ").flow_from_directory(test_dir,batch_size=16,target_size=(size,size),shuffle=False)\n",
        "#print_examples(test_generator,classes)"
      ],
      "metadata": {
        "id": "Ep9P02hJkjH-",
        "colab": {
          "base_uri": "https://localhost:8080/"
        },
        "outputId": "e0cf9e4c-d39f-41b7-bbab-2868a4ae660b"
      },
      "execution_count": null,
      "outputs": [
        {
          "output_type": "stream",
          "name": "stdout",
          "text": [
            "Found 1300 images belonging to 4 classes.\n"
          ]
        }
      ]
    },
    {
      "cell_type": "code",
      "source": [
        "print(len(valid_generator)*16)\n",
        "print(len(test_generator)*16)\n",
        "print(classes)"
      ],
      "metadata": {
        "colab": {
          "base_uri": "https://localhost:8080/"
        },
        "id": "2XNBDmy1kjKI",
        "outputId": "f85e66b8-5487-484c-c476-a2e4ca244d81"
      },
      "execution_count": null,
      "outputs": [
        {
          "output_type": "stream",
          "name": "stdout",
          "text": [
            "2128\n",
            "1312\n",
            "['close_look', 'forward_look', 'left_look', 'right_look']\n"
          ]
        }
      ]
    },
    {
      "cell_type": "markdown",
      "source": [
        "## Binary Model"
      ],
      "metadata": {
        "id": "cKVwnAvXqDgj"
      }
    },
    {
      "cell_type": "markdown",
      "source": [
        "The following cells will create a classification model (one vs rest) that will specialize in identification of closed eyes.\n",
        "\n",
        "V2 model - [link to model](https://drive.google.com/file/d/18gtEx_Xu-exw4drQ08MhPV8Hf4gep99F/view?usp=sharing)\n",
        "\n",
        "Test loss: 0.0345\n",
        "\n",
        "Test accuracy: 0.9892\n",
        "\n",
        "V3 model - [link to model](https://drive.google.com/file/d/1Awy9pPmmoq5UMDgQcpdNOftsk9j_0alw/view?usp=share_link)\n",
        "\n",
        "Test loss: 0.0058\n",
        "\n",
        "Test accuracy: 0.9985"
      ],
      "metadata": {
        "id": "qZFtk6j91TWC"
      }
    },
    {
      "cell_type": "code",
      "source": [
        "#TensorFlow is a free and open-source software library for machine learning and artificial intelligence.\n",
        "# It can be used across a range of tasks but has a particular focus on training and inference of deep neural networks.\n",
        "from tensorflow.keras.models import Sequential \n",
        "from tensorflow.keras.layers import Dense ,Flatten ,Conv2D ,MaxPooling2D ,Dropout ,BatchNormalization ,GlobalMaxPool2D\n",
        "from tensorflow.keras.optimizers import Adam\n",
        "from tensorflow.keras.callbacks import EarlyStopping ,ReduceLROnPlateau ,ModelCheckpoint"
      ],
      "metadata": {
        "id": "lWQnke5SkjMe"
      },
      "execution_count": null,
      "outputs": []
    },
    {
      "cell_type": "code",
      "source": [
        "# Define the labels for binary classification\n",
        "binary_labels = ['close_look', 'open_look']\n",
        "\n",
        "def create_binary_df(df):\n",
        "  binary_generator=df\n",
        "  binary_generator.classes = (df.classes == 0).astype('int')\n",
        "  binary_generator.class_mode = 'binary'\n",
        "  binary_generator.class_indices = {label: i for i, label in enumerate(binary_labels)}\n",
        "  return binary_generator\n",
        "\n",
        "binary_train_generator = create_binary_df(train_generator)\n",
        "binary_valid_generator = create_binary_df(valid_generator)\n",
        "binary_test_generator  = create_binary_df(test_generator)\n",
        "binary_classes=list(binary_train_generator.class_indices.keys())\n",
        "print(binary_classes)"
      ],
      "metadata": {
        "id": "bblb9TeNqIHq",
        "colab": {
          "base_uri": "https://localhost:8080/"
        },
        "outputId": "bf6a4557-1ce0-48ae-ab5f-c39b424b6226"
      },
      "execution_count": null,
      "outputs": [
        {
          "output_type": "stream",
          "name": "stdout",
          "text": [
            "['close_look', 'open_look']\n"
          ]
        }
      ]
    },
    {
      "cell_type": "code",
      "source": [
        "binary_classes=list(binary_test_generator.class_indices.keys())\n",
        "print(binary_classes)"
      ],
      "metadata": {
        "colab": {
          "base_uri": "https://localhost:8080/"
        },
        "id": "T5YhRZlClti4",
        "outputId": "e98c0c67-efc9-4168-b5de-6b78972a45f3"
      },
      "execution_count": null,
      "outputs": [
        {
          "output_type": "stream",
          "name": "stdout",
          "text": [
            "['close_look', 'open_look']\n"
          ]
        }
      ]
    },
    {
      "cell_type": "code",
      "source": [
        "from sklearn.metrics import classification_report, confusion_matrix\n",
        "\n",
        "batch_size = 16\n",
        "# Create a simple binary classification model\n",
        "model = Sequential([\n",
        "    Conv2D(32, (3, 3), activation='relu', input_shape=(size, size, 3)),\n",
        "    MaxPooling2D((2, 2)),\n",
        "    Conv2D(64, (3, 3), activation='relu'),\n",
        "    MaxPooling2D((2, 2)),\n",
        "    Conv2D(128, (3, 3), activation='relu'),\n",
        "    MaxPooling2D((2, 2)),\n",
        "    Flatten(),\n",
        "    Dropout(0.5),\n",
        "    Dense(128, activation='relu'),\n",
        "    Dense(1, activation='sigmoid')\n",
        "])\n",
        "\n",
        "model.compile(optimizer='adam', \n",
        "              loss='binary_crossentropy', \n",
        "              metrics=['accuracy'])\n",
        "\n",
        "# Train the model on the binary classification generators\n",
        "history = model.fit(binary_train_generator,\n",
        "                    steps_per_epoch=binary_train_generator.samples // batch_size ,\n",
        "                    epochs=8, \n",
        "                    validation_data=binary_valid_generator,\n",
        "                    validation_steps=binary_valid_generator.samples // batch_size )\n",
        "\n",
        "# Evaluate the model on the test set\n",
        "loss, accuracy = model.evaluate(binary_test_generator, verbose=0)\n",
        "print(f'Test loss: {loss:.4f}')\n",
        "print(f'Test accuracy: {accuracy:.4f}')\n",
        "\n",
        "# Get the model predictions on the test set\n",
        "y_pred = model.predict(binary_test_generator)\n",
        "y_pred_classes = (y_pred > 0.5).astype('int')\n",
        "\n",
        "# Generate a classification report and confusion matrix\n",
        "print('Classification Report')\n",
        "print(classification_report(binary_test_generator.classes, y_pred_classes, target_names=binary_labels))\n",
        "print('Confusion Matrix')\n",
        "print(confusion_matrix(binary_test_generator.classes, y_pred_classes))"
      ],
      "metadata": {
        "colab": {
          "base_uri": "https://localhost:8080/"
        },
        "id": "R-qry-WkUuoY",
        "outputId": "2e6d8141-e7a5-435d-faac-a85b0c6095c4"
      },
      "execution_count": null,
      "outputs": [
        {
          "output_type": "stream",
          "name": "stdout",
          "text": [
            "Epoch 1/8\n",
            "752/752 [==============================] - 4212s 6s/step - loss: 0.1710 - accuracy: 0.9372 - val_loss: 0.0943 - val_accuracy: 0.9763\n",
            "Epoch 2/8\n",
            "752/752 [==============================] - 263s 350ms/step - loss: 0.1017 - accuracy: 0.9673 - val_loss: 0.0600 - val_accuracy: 0.9830\n",
            "Epoch 3/8\n",
            "752/752 [==============================] - 271s 361ms/step - loss: 0.0661 - accuracy: 0.9786 - val_loss: 0.0428 - val_accuracy: 0.9834\n",
            "Epoch 4/8\n",
            "752/752 [==============================] - 266s 353ms/step - loss: 0.0393 - accuracy: 0.9868 - val_loss: 0.0515 - val_accuracy: 0.9863\n",
            "Epoch 5/8\n",
            "752/752 [==============================] - 263s 350ms/step - loss: 0.0341 - accuracy: 0.9881 - val_loss: 0.0333 - val_accuracy: 0.9910\n",
            "Epoch 6/8\n",
            "752/752 [==============================] - 269s 357ms/step - loss: 0.0272 - accuracy: 0.9910 - val_loss: 0.0339 - val_accuracy: 0.9877\n",
            "Epoch 7/8\n",
            "752/752 [==============================] - 266s 353ms/step - loss: 0.0199 - accuracy: 0.9938 - val_loss: 0.0348 - val_accuracy: 0.9891\n",
            "Epoch 8/8\n",
            "752/752 [==============================] - 268s 357ms/step - loss: 0.0168 - accuracy: 0.9946 - val_loss: 0.0325 - val_accuracy: 0.9867\n",
            "Test loss: 0.0058\n",
            "Test accuracy: 0.9985\n",
            "82/82 [==============================] - 10s 120ms/step\n",
            "Classification Report\n",
            "              precision    recall  f1-score   support\n",
            "\n",
            "  close_look       1.00      1.00      1.00       975\n",
            "   open_look       1.00      1.00      1.00       325\n",
            "\n",
            "    accuracy                           1.00      1300\n",
            "   macro avg       1.00      1.00      1.00      1300\n",
            "weighted avg       1.00      1.00      1.00      1300\n",
            "\n",
            "Confusion Matrix\n",
            "[[974   1]\n",
            " [  1 324]]\n"
          ]
        }
      ]
    },
    {
      "cell_type": "code",
      "source": [
        "model.save('/content/drive/MyDrive/FinalProject/binary_model_v3.h5')"
      ],
      "metadata": {
        "id": "bzLS5F4ZUurH"
      },
      "execution_count": null,
      "outputs": []
    },
    {
      "cell_type": "markdown",
      "source": [
        "## Four classes model"
      ],
      "metadata": {
        "id": "Z5iVQXbk03tJ"
      }
    },
    {
      "cell_type": "markdown",
      "source": [
        "Those code cells will create classification model that will classify between the four classes ['close_look', 'forward_look', 'left_look', 'right_look'] \n",
        "\n",
        "\n",
        "model_v2 - [link to model](https://drive.google.com/file/d/1-1wNrOXXS3ruL_IUMbXPVl37GBldVm6b/view?usp=sharing)\n",
        "\n",
        "Test loss: 0.0444\n",
        "\n",
        "Test accuracy: 0.9908\n",
        "\n",
        "model_v3 - [link to model](https://drive.google.com/file/d/1--EoGg25h2E8BpmWXv6yebM2n_tZueLI/view?usp=sharing)\n",
        "\n",
        "\n",
        "Test loss: 0.0678\n",
        "\n",
        "Test accuracy: 0.9877\n",
        "\n",
        "\n",
        "To create a new model you should recreate the tarin, validation and test data frames.\n",
        "\n"
      ],
      "metadata": {
        "id": "-ruh19Nr0xnk"
      }
    },
    {
      "cell_type": "code",
      "source": [
        "from tensorflow.keras.layers import Conv2D, MaxPooling2D, Dropout, Flatten, Dense, BatchNormalization\n",
        "from tensorflow.keras.optimizers import Adam\n",
        "from tensorflow.keras.callbacks import EarlyStopping, ReduceLROnPlateau\n",
        "from tensorflow.keras.models import Sequential\n",
        "\n",
        "# Define model architecture\n",
        "model = Sequential([\n",
        "    Conv2D(32, 3, activation='relu', kernel_initializer='he_normal', input_shape=(size, size, 3)),\n",
        "    Conv2D(64, 3, activation='relu', kernel_initializer='he_normal'),\n",
        "    BatchNormalization(),\n",
        "    MaxPooling2D(3),\n",
        "    Conv2D(128, 3, activation='relu', kernel_initializer='he_normal'),\n",
        "    BatchNormalization(),\n",
        "    MaxPooling2D(3),\n",
        "    Conv2D(256, 3, activation='relu', kernel_initializer='he_normal'),\n",
        "    BatchNormalization(),\n",
        "    MaxPooling2D(3),\n",
        "    Flatten(),\n",
        "    Dense(64, activation='relu', kernel_initializer='he_normal'),\n",
        "    BatchNormalization(),\n",
        "    Dense(4, activation='softmax', kernel_initializer='glorot_normal')\n",
        "])\n",
        "\n",
        "# Compile model\n",
        "optimizer_adam = Adam(learning_rate=0.001, beta_1=0.9, beta_2=0.99)\n",
        "model.compile(optimizer=optimizer_adam, loss='categorical_crossentropy', metrics=['accuracy'])\n",
        "\n",
        "# Define callbacks\n",
        "early_stop = EarlyStopping(patience=5, verbose=1, restore_best_weights=True)\n",
        "reduce_lr = ReduceLROnPlateau(factor=0.1, patience=3, min_lr=0.00001, verbose=1)\n",
        "\n",
        "# Train model with data generators\n",
        "history = model.fit(\n",
        "    train_generator,\n",
        "    validation_data=valid_generator,\n",
        "    epochs=50,\n",
        "    steps_per_epoch=len(train_generator),\n",
        "    validation_steps=len(valid_generator),\n",
        "    callbacks=[early_stop, reduce_lr],\n",
        "    verbose=1\n",
        ")\n"
      ],
      "metadata": {
        "id": "f21T1cpnkjV2",
        "colab": {
          "base_uri": "https://localhost:8080/"
        },
        "outputId": "89a2d547-f86e-4520-ead7-ae52352aa876"
      },
      "execution_count": null,
      "outputs": [
        {
          "output_type": "stream",
          "name": "stdout",
          "text": [
            "Epoch 1/50\n",
            "753/753 [==============================] - 763s 997ms/step - loss: 0.3606 - accuracy: 0.8752 - val_loss: 0.5399 - val_accuracy: 0.8648 - lr: 0.0010\n",
            "Epoch 2/50\n",
            "753/753 [==============================] - 723s 960ms/step - loss: 0.1839 - accuracy: 0.9418 - val_loss: 0.1494 - val_accuracy: 0.9628 - lr: 0.0010\n",
            "Epoch 3/50\n",
            "753/753 [==============================] - 738s 980ms/step - loss: 0.1332 - accuracy: 0.9600 - val_loss: 0.2194 - val_accuracy: 0.9194 - lr: 0.0010\n",
            "Epoch 4/50\n",
            "753/753 [==============================] - 706s 938ms/step - loss: 0.1082 - accuracy: 0.9673 - val_loss: 1.6072 - val_accuracy: 0.8129 - lr: 0.0010\n",
            "Epoch 5/50\n",
            "753/753 [==============================] - ETA: 0s - loss: 0.0890 - accuracy: 0.9721\n",
            "Epoch 5: ReduceLROnPlateau reducing learning rate to 0.00010000000474974513.\n",
            "753/753 [==============================] - 738s 979ms/step - loss: 0.0890 - accuracy: 0.9721 - val_loss: 0.3766 - val_accuracy: 0.9237 - lr: 0.0010\n",
            "Epoch 6/50\n",
            "753/753 [==============================] - 731s 969ms/step - loss: 0.0528 - accuracy: 0.9850 - val_loss: 0.1100 - val_accuracy: 0.9708 - lr: 1.0000e-04\n",
            "Epoch 7/50\n",
            "753/753 [==============================] - 714s 948ms/step - loss: 0.0362 - accuracy: 0.9880 - val_loss: 0.1302 - val_accuracy: 0.9637 - lr: 1.0000e-04\n",
            "Epoch 8/50\n",
            "753/753 [==============================] - 708s 940ms/step - loss: 0.0324 - accuracy: 0.9911 - val_loss: 0.1123 - val_accuracy: 0.9675 - lr: 1.0000e-04\n",
            "Epoch 9/50\n",
            "753/753 [==============================] - ETA: 0s - loss: 0.0287 - accuracy: 0.9915\n",
            "Epoch 9: ReduceLROnPlateau reducing learning rate to 1.0000000474974514e-05.\n",
            "753/753 [==============================] - 706s 938ms/step - loss: 0.0287 - accuracy: 0.9915 - val_loss: 0.1149 - val_accuracy: 0.9689 - lr: 1.0000e-04\n",
            "Epoch 10/50\n",
            "753/753 [==============================] - 719s 954ms/step - loss: 0.0241 - accuracy: 0.9929 - val_loss: 0.1253 - val_accuracy: 0.9651 - lr: 1.0000e-05\n",
            "Epoch 11/50\n",
            "753/753 [==============================] - ETA: 0s - loss: 0.0209 - accuracy: 0.9942Restoring model weights from the end of the best epoch: 6.\n",
            "753/753 [==============================] - 716s 951ms/step - loss: 0.0209 - accuracy: 0.9942 - val_loss: 0.1274 - val_accuracy: 0.9656 - lr: 1.0000e-05\n",
            "Epoch 11: early stopping\n"
          ]
        }
      ]
    },
    {
      "cell_type": "code",
      "source": [
        "# Evaluate the model on the test set\n",
        "loss, accuracy = model.evaluate(test_generator, verbose=0)\n",
        "print(f'Test loss: {loss:.4f}')\n",
        "print(f'Test accuracy: {accuracy:.4f}')"
      ],
      "metadata": {
        "id": "0_9kPQBPC336",
        "colab": {
          "base_uri": "https://localhost:8080/"
        },
        "outputId": "1949313b-36e4-44ae-8479-243c495c78c2"
      },
      "execution_count": null,
      "outputs": [
        {
          "output_type": "stream",
          "name": "stdout",
          "text": [
            "Test loss: 0.0678\n",
            "Test accuracy: 0.9877\n"
          ]
        }
      ]
    },
    {
      "cell_type": "code",
      "source": [
        "model.save('/content/drive/MyDrive/FinalProject/fourWayModel_v3.h5')"
      ],
      "metadata": {
        "id": "dt4Tx14w9wwg"
      },
      "execution_count": null,
      "outputs": []
    }
  ]
}